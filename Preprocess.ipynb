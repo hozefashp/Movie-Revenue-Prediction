{
 "cells": [
  {
   "cell_type": "code",
   "execution_count": 1,
   "metadata": {},
   "outputs": [],
   "source": [
    "import pandas as pd                \n",
    "from ast import literal_eval\n",
    "from collections import Counter\n",
    "import numpy as np"
   ]
  },
  {
   "cell_type": "code",
   "execution_count": 2,
   "metadata": {},
   "outputs": [],
   "source": [
    "train = pd.read_csv(\"train.csv\")\n",
    "test = pd.read_csv(\"test.csv\")\n",
    "\n",
    "train['source'] = 'train'                              \n",
    "test['source'] = 'test'\n",
    "\n",
    "df = pd.concat([train, test],ignore_index=True, sort=True)"
   ]
  },
  {
   "cell_type": "code",
   "execution_count": 3,
   "metadata": {},
   "outputs": [],
   "source": [
    "df['cast_character'] = df['cast'].fillna('[]').apply(literal_eval).apply(lambda x: [i['character'] for i in x] if isinstance(x, list) else [])\n",
    "text_columns = ['genres', 'production_companies', 'production_countries', 'spoken_languages', 'Keywords', 'cast', 'crew']\n",
    "for column in text_columns:\n",
    "    df[column] = df[column].fillna('[]').apply(literal_eval).apply(lambda x: [i['name'] for i in x] if isinstance(x, list) else [])"
   ]
  },
  {
   "cell_type": "code",
   "execution_count": 4,
   "metadata": {},
   "outputs": [],
   "source": [
    "df['belongs_to_collection'] = df['belongs_to_collection'].notnull()\n",
    "df['homepage'] = df['homepage'].notnull()\n",
    "df['is_english_original_language'] = df['original_language'].apply(lambda x: 1 if x == 'en' else 0)\n",
    "df['is_US'] = df['production_countries'].apply(lambda x: 1 if 'United States of America' in x else 0)\n",
    "df['belongs_to_collection'] *=1\n",
    "df['has_homepage'] = df['homepage']*1"
   ]
  },
  {
   "cell_type": "code",
   "execution_count": 5,
   "metadata": {},
   "outputs": [],
   "source": [
    "count_columns = ['production_companies', 'Keywords', 'crew']\n",
    "for column in count_columns:\n",
    "    df['total_' + column] = df[column].apply(lambda x: len(x) if x!= [] else 0)"
   ]
  },
  {
   "cell_type": "code",
   "execution_count": 6,
   "metadata": {},
   "outputs": [],
   "source": [
    "list_of_cast_names = list(df['cast'].apply(lambda x: [i for i in x] if x != {} else []).values)\n",
    "top_cast_names = [m[0] for m in Counter([i for j in list_of_cast_names for i in j]).most_common(20)]\n",
    "for g in top_cast_names: \n",
    "    df['cast_name_' + g] = df['cast'].apply(lambda x: 1 if g in str(x) else 0)\n",
    "cast_name_column = [col for col in df if col.startswith('cast_name')]\n",
    "weight = pd.DataFrame(pd.Series([21,20,19,18,17,16,15,14,13,12,11,10,9,8,7,6,5,4,3,2], index=cast_name_column, name=0))\n",
    "df['cast_power'] = (df[cast_name_column] * weight[0]).sum(1)\n",
    "df.drop(cast_name_column, axis=1, inplace=True)"
   ]
  },
  {
   "cell_type": "code",
   "execution_count": 7,
   "metadata": {},
   "outputs": [],
   "source": [
    "list_of_cast_characters = list(df['cast_character'].apply(lambda x: [i for i in x] if x != {} else []).values)\n",
    "top_cast_characters = [m[0] for m in Counter([i for j in list_of_cast_characters for i in j]).most_common(20)]\n",
    "for g in top_cast_characters:\n",
    "    df['cast_character_' + g] = df['cast_character'].apply(lambda x: 1 if g in str(x) else 0)\n",
    "cast_character_column = [col for col in df if col.startswith('cast_character')]\n",
    "weight = pd.DataFrame(pd.Series([21,20,19,18,17,16,15,14,13,12,11,10,9,8,7,6,5,4,3,2,1], index=cast_character_column, name=0))\n",
    "df['cast_power'] += (df[cast_character_column] * weight[0]).sum(1)\n",
    "df.drop(cast_character_column, axis=1, inplace=True)"
   ]
  },
  {
   "cell_type": "code",
   "execution_count": 8,
   "metadata": {},
   "outputs": [],
   "source": [
    "list_of_genres = list(df['genres'].apply(lambda x: [i for i in x] if x != {} else []).values)\n",
    "top_genres = [m[0] for m in Counter([i for j in list_of_genres for i in j]).most_common(10)]\n",
    "for g in top_genres: \n",
    "    df['genre_' + g] = df['genres'].apply(lambda x: 1 if g in str(x) else 0)\n",
    "genre_column = [col for col in df if col.startswith('genre_')]\n",
    "weight = pd.DataFrame(pd.Series([10,9,8,7,6,5,4,3,2,1], index=genre_column, name=0))\n",
    "df['genre_power'] = (df[genre_column] * weight[0]).sum(1)\n",
    "df.drop(genre_column, axis=1, inplace=True)"
   ]
  },
  {
   "cell_type": "code",
   "execution_count": 9,
   "metadata": {},
   "outputs": [],
   "source": [
    "df[['release_month','release_day','release_year']]=df['release_date'].str.split('/',expand=True).replace(np.nan, -1).astype(int)"
   ]
  },
  {
   "cell_type": "code",
   "execution_count": 10,
   "metadata": {},
   "outputs": [],
   "source": [
    "df.drop(['genres', 'homepage', 'original_language', 'spoken_languages', 'production_countries', 'production_companies','Keywords', 'cast', 'crew', 'genre_power', 'overview','imdb_id', 'title','tagline', 'status','poster_path','original_title','release_date','release_month','release_year'], axis=1, inplace=True)"
   ]
  },
  {
   "cell_type": "code",
   "execution_count": 11,
   "metadata": {},
   "outputs": [],
   "source": [
    "df=df.fillna(0)"
   ]
  },
  {
   "cell_type": "code",
   "execution_count": 12,
   "metadata": {},
   "outputs": [
    {
     "name": "stderr",
     "output_type": "stream",
     "text": [
      "C:\\Users\\hozir\\Anaconda3\\lib\\site-packages\\pandas\\core\\frame.py:3697: SettingWithCopyWarning: \n",
      "A value is trying to be set on a copy of a slice from a DataFrame\n",
      "\n",
      "See the caveats in the documentation: http://pandas.pydata.org/pandas-docs/stable/indexing.html#indexing-view-versus-copy\n",
      "  errors=errors)\n"
     ]
    }
   ],
   "source": [
    "train = df.loc[df['source'] == 'train']\n",
    "test = df.loc[df['source'] == 'test']\n",
    "\n",
    "train.drop('source', axis=1, inplace=True)\n",
    "test.drop('source', axis=1, inplace=True)\n",
    "\n",
    "test.to_csv(r'test_final.csv')\n",
    "train.to_csv(r'train_final.csv')"
   ]
  }
 ],
 "metadata": {
  "kernelspec": {
   "display_name": "Python 3",
   "language": "python",
   "name": "python3"
  },
  "language_info": {
   "codemirror_mode": {
    "name": "ipython",
    "version": 3
   },
   "file_extension": ".py",
   "mimetype": "text/x-python",
   "name": "python",
   "nbconvert_exporter": "python",
   "pygments_lexer": "ipython3",
   "version": "3.7.1"
  }
 },
 "nbformat": 4,
 "nbformat_minor": 2
}
